{
 "cells": [
  {
   "cell_type": "code",
   "execution_count": 1,
   "metadata": {
    "id": "90XNJkQG1wYp"
   },
   "outputs": [],
   "source": [
    "import numpy as np\n",
    "import pandas as pd"
   ]
  },
  {
   "cell_type": "markdown",
   "metadata": {
    "id": "lB6kSg692qng"
   },
   "source": [
    "# **Reading the files**"
   ]
  },
  {
   "cell_type": "code",
   "execution_count": 2,
   "metadata": {
    "id": "mUubagBq14BM"
   },
   "outputs": [],
   "source": [
    "df_train = pd.read_csv(\"train.csv\")\n",
    "df_test = pd.read_csv(\"test.csv\")"
   ]
  },
  {
   "cell_type": "code",
   "execution_count": 3,
   "metadata": {
    "id": "JGA0pSJr2PvM"
   },
   "outputs": [],
   "source": [
    "df=pd.concat([df_train,df_test],ignore_index=True)"
   ]
  },
  {
   "cell_type": "markdown",
   "metadata": {
    "id": "VwOEOLp823X9"
   },
   "source": [
    "# **Exploring the dataframe**"
   ]
  },
  {
   "cell_type": "code",
   "execution_count": 4,
   "metadata": {
    "colab": {
     "base_uri": "https://localhost:8080/",
     "height": 290
    },
    "id": "6WLj6JDr2j5n",
    "outputId": "8cc629ad-6705-4426-e2ba-f0f76f1d3622"
   },
   "outputs": [
    {
     "data": {
      "text/html": [
       "<div>\n",
       "<style scoped>\n",
       "    .dataframe tbody tr th:only-of-type {\n",
       "        vertical-align: middle;\n",
       "    }\n",
       "\n",
       "    .dataframe tbody tr th {\n",
       "        vertical-align: top;\n",
       "    }\n",
       "\n",
       "    .dataframe thead th {\n",
       "        text-align: right;\n",
       "    }\n",
       "</style>\n",
       "<table border=\"1\" class=\"dataframe\">\n",
       "  <thead>\n",
       "    <tr style=\"text-align: right;\">\n",
       "      <th></th>\n",
       "      <th>Employee ID</th>\n",
       "      <th>Age</th>\n",
       "      <th>Gender</th>\n",
       "      <th>Years at Company</th>\n",
       "      <th>Job Role</th>\n",
       "      <th>Monthly Income</th>\n",
       "      <th>Work-Life Balance</th>\n",
       "      <th>Job Satisfaction</th>\n",
       "      <th>Performance Rating</th>\n",
       "      <th>Number of Promotions</th>\n",
       "      <th>...</th>\n",
       "      <th>Number of Dependents</th>\n",
       "      <th>Job Level</th>\n",
       "      <th>Company Size</th>\n",
       "      <th>Company Tenure</th>\n",
       "      <th>Remote Work</th>\n",
       "      <th>Leadership Opportunities</th>\n",
       "      <th>Innovation Opportunities</th>\n",
       "      <th>Company Reputation</th>\n",
       "      <th>Employee Recognition</th>\n",
       "      <th>Attrition</th>\n",
       "    </tr>\n",
       "  </thead>\n",
       "  <tbody>\n",
       "    <tr>\n",
       "      <th>0</th>\n",
       "      <td>8410</td>\n",
       "      <td>31</td>\n",
       "      <td>Male</td>\n",
       "      <td>19</td>\n",
       "      <td>Education</td>\n",
       "      <td>5390</td>\n",
       "      <td>Excellent</td>\n",
       "      <td>Medium</td>\n",
       "      <td>Average</td>\n",
       "      <td>2</td>\n",
       "      <td>...</td>\n",
       "      <td>0</td>\n",
       "      <td>Mid</td>\n",
       "      <td>Medium</td>\n",
       "      <td>89</td>\n",
       "      <td>No</td>\n",
       "      <td>No</td>\n",
       "      <td>No</td>\n",
       "      <td>Excellent</td>\n",
       "      <td>Medium</td>\n",
       "      <td>Stayed</td>\n",
       "    </tr>\n",
       "    <tr>\n",
       "      <th>1</th>\n",
       "      <td>64756</td>\n",
       "      <td>59</td>\n",
       "      <td>Female</td>\n",
       "      <td>4</td>\n",
       "      <td>Media</td>\n",
       "      <td>5534</td>\n",
       "      <td>Poor</td>\n",
       "      <td>High</td>\n",
       "      <td>Low</td>\n",
       "      <td>3</td>\n",
       "      <td>...</td>\n",
       "      <td>3</td>\n",
       "      <td>Mid</td>\n",
       "      <td>Medium</td>\n",
       "      <td>21</td>\n",
       "      <td>No</td>\n",
       "      <td>No</td>\n",
       "      <td>No</td>\n",
       "      <td>Fair</td>\n",
       "      <td>Low</td>\n",
       "      <td>Stayed</td>\n",
       "    </tr>\n",
       "    <tr>\n",
       "      <th>2</th>\n",
       "      <td>30257</td>\n",
       "      <td>24</td>\n",
       "      <td>Female</td>\n",
       "      <td>10</td>\n",
       "      <td>Healthcare</td>\n",
       "      <td>8159</td>\n",
       "      <td>Good</td>\n",
       "      <td>High</td>\n",
       "      <td>Low</td>\n",
       "      <td>0</td>\n",
       "      <td>...</td>\n",
       "      <td>3</td>\n",
       "      <td>Mid</td>\n",
       "      <td>Medium</td>\n",
       "      <td>74</td>\n",
       "      <td>No</td>\n",
       "      <td>No</td>\n",
       "      <td>No</td>\n",
       "      <td>Poor</td>\n",
       "      <td>Low</td>\n",
       "      <td>Stayed</td>\n",
       "    </tr>\n",
       "    <tr>\n",
       "      <th>3</th>\n",
       "      <td>65791</td>\n",
       "      <td>36</td>\n",
       "      <td>Female</td>\n",
       "      <td>7</td>\n",
       "      <td>Education</td>\n",
       "      <td>3989</td>\n",
       "      <td>Good</td>\n",
       "      <td>High</td>\n",
       "      <td>High</td>\n",
       "      <td>1</td>\n",
       "      <td>...</td>\n",
       "      <td>2</td>\n",
       "      <td>Mid</td>\n",
       "      <td>Small</td>\n",
       "      <td>50</td>\n",
       "      <td>Yes</td>\n",
       "      <td>No</td>\n",
       "      <td>No</td>\n",
       "      <td>Good</td>\n",
       "      <td>Medium</td>\n",
       "      <td>Stayed</td>\n",
       "    </tr>\n",
       "    <tr>\n",
       "      <th>4</th>\n",
       "      <td>65026</td>\n",
       "      <td>56</td>\n",
       "      <td>Male</td>\n",
       "      <td>41</td>\n",
       "      <td>Education</td>\n",
       "      <td>4821</td>\n",
       "      <td>Fair</td>\n",
       "      <td>Very High</td>\n",
       "      <td>Average</td>\n",
       "      <td>0</td>\n",
       "      <td>...</td>\n",
       "      <td>0</td>\n",
       "      <td>Senior</td>\n",
       "      <td>Medium</td>\n",
       "      <td>68</td>\n",
       "      <td>No</td>\n",
       "      <td>No</td>\n",
       "      <td>No</td>\n",
       "      <td>Fair</td>\n",
       "      <td>Medium</td>\n",
       "      <td>Stayed</td>\n",
       "    </tr>\n",
       "  </tbody>\n",
       "</table>\n",
       "<p>5 rows × 24 columns</p>\n",
       "</div>"
      ],
      "text/plain": [
       "   Employee ID  Age  Gender  Years at Company    Job Role  Monthly Income  \\\n",
       "0         8410   31    Male                19   Education            5390   \n",
       "1        64756   59  Female                 4       Media            5534   \n",
       "2        30257   24  Female                10  Healthcare            8159   \n",
       "3        65791   36  Female                 7   Education            3989   \n",
       "4        65026   56    Male                41   Education            4821   \n",
       "\n",
       "  Work-Life Balance Job Satisfaction Performance Rating  Number of Promotions  \\\n",
       "0         Excellent           Medium            Average                     2   \n",
       "1              Poor             High                Low                     3   \n",
       "2              Good             High                Low                     0   \n",
       "3              Good             High               High                     1   \n",
       "4              Fair        Very High            Average                     0   \n",
       "\n",
       "   ... Number of Dependents  Job Level Company Size Company Tenure  \\\n",
       "0  ...                    0        Mid       Medium             89   \n",
       "1  ...                    3        Mid       Medium             21   \n",
       "2  ...                    3        Mid       Medium             74   \n",
       "3  ...                    2        Mid        Small             50   \n",
       "4  ...                    0     Senior       Medium             68   \n",
       "\n",
       "   Remote Work Leadership Opportunities Innovation Opportunities  \\\n",
       "0           No                       No                       No   \n",
       "1           No                       No                       No   \n",
       "2           No                       No                       No   \n",
       "3          Yes                       No                       No   \n",
       "4           No                       No                       No   \n",
       "\n",
       "   Company Reputation Employee Recognition Attrition  \n",
       "0           Excellent               Medium    Stayed  \n",
       "1                Fair                  Low    Stayed  \n",
       "2                Poor                  Low    Stayed  \n",
       "3                Good               Medium    Stayed  \n",
       "4                Fair               Medium    Stayed  \n",
       "\n",
       "[5 rows x 24 columns]"
      ]
     },
     "execution_count": 4,
     "metadata": {},
     "output_type": "execute_result"
    }
   ],
   "source": [
    "df.head()"
   ]
  },
  {
   "cell_type": "markdown",
   "metadata": {
    "id": "8WhawriE3-cE"
   },
   "source": [
    "**Information about DataFrame**"
   ]
  },
  {
   "cell_type": "code",
   "execution_count": 5,
   "metadata": {
    "colab": {
     "base_uri": "https://localhost:8080/"
    },
    "id": "ckr7JvPB2lc8",
    "outputId": "d6274004-f75e-4460-dfe9-6c8c914b21eb"
   },
   "outputs": [
    {
     "name": "stdout",
     "output_type": "stream",
     "text": [
      "<class 'pandas.core.frame.DataFrame'>\n",
      "RangeIndex: 74498 entries, 0 to 74497\n",
      "Data columns (total 24 columns):\n",
      " #   Column                    Non-Null Count  Dtype \n",
      "---  ------                    --------------  ----- \n",
      " 0   Employee ID               74498 non-null  int64 \n",
      " 1   Age                       74498 non-null  int64 \n",
      " 2   Gender                    74498 non-null  object\n",
      " 3   Years at Company          74498 non-null  int64 \n",
      " 4   Job Role                  74498 non-null  object\n",
      " 5   Monthly Income            74498 non-null  int64 \n",
      " 6   Work-Life Balance         74498 non-null  object\n",
      " 7   Job Satisfaction          74498 non-null  object\n",
      " 8   Performance Rating        74498 non-null  object\n",
      " 9   Number of Promotions      74498 non-null  int64 \n",
      " 10  Overtime                  74498 non-null  object\n",
      " 11  Distance from Home        74498 non-null  int64 \n",
      " 12  Education Level           74498 non-null  object\n",
      " 13  Marital Status            74498 non-null  object\n",
      " 14  Number of Dependents      74498 non-null  int64 \n",
      " 15  Job Level                 74498 non-null  object\n",
      " 16  Company Size              74498 non-null  object\n",
      " 17  Company Tenure            74498 non-null  int64 \n",
      " 18  Remote Work               74498 non-null  object\n",
      " 19  Leadership Opportunities  74498 non-null  object\n",
      " 20  Innovation Opportunities  74498 non-null  object\n",
      " 21  Company Reputation        74498 non-null  object\n",
      " 22  Employee Recognition      74498 non-null  object\n",
      " 23  Attrition                 74498 non-null  object\n",
      "dtypes: int64(8), object(16)\n",
      "memory usage: 13.6+ MB\n"
     ]
    }
   ],
   "source": [
    "df.info()"
   ]
  },
  {
   "cell_type": "markdown",
   "metadata": {
    "id": "5LKu-cOc4V_F"
   },
   "source": [
    "**Descriptive statistics of DataFrame**"
   ]
  },
  {
   "cell_type": "code",
   "execution_count": 6,
   "metadata": {
    "colab": {
     "base_uri": "https://localhost:8080/",
     "height": 337
    },
    "id": "PfGmRCiR3Cig",
    "outputId": "cd3fca53-1838-484d-c058-60e887ead9ec"
   },
   "outputs": [
    {
     "data": {
      "text/html": [
       "<div>\n",
       "<style scoped>\n",
       "    .dataframe tbody tr th:only-of-type {\n",
       "        vertical-align: middle;\n",
       "    }\n",
       "\n",
       "    .dataframe tbody tr th {\n",
       "        vertical-align: top;\n",
       "    }\n",
       "\n",
       "    .dataframe thead th {\n",
       "        text-align: right;\n",
       "    }\n",
       "</style>\n",
       "<table border=\"1\" class=\"dataframe\">\n",
       "  <thead>\n",
       "    <tr style=\"text-align: right;\">\n",
       "      <th></th>\n",
       "      <th>Employee ID</th>\n",
       "      <th>Age</th>\n",
       "      <th>Years at Company</th>\n",
       "      <th>Monthly Income</th>\n",
       "      <th>Number of Promotions</th>\n",
       "      <th>Distance from Home</th>\n",
       "      <th>Number of Dependents</th>\n",
       "      <th>Company Tenure</th>\n",
       "    </tr>\n",
       "  </thead>\n",
       "  <tbody>\n",
       "    <tr>\n",
       "      <th>count</th>\n",
       "      <td>74498.000000</td>\n",
       "      <td>74498.000000</td>\n",
       "      <td>74498.000000</td>\n",
       "      <td>74498.000000</td>\n",
       "      <td>74498.000000</td>\n",
       "      <td>74498.000000</td>\n",
       "      <td>74498.000000</td>\n",
       "      <td>74498.000000</td>\n",
       "    </tr>\n",
       "    <tr>\n",
       "      <th>mean</th>\n",
       "      <td>37249.500000</td>\n",
       "      <td>38.529746</td>\n",
       "      <td>15.721603</td>\n",
       "      <td>7299.379514</td>\n",
       "      <td>0.832935</td>\n",
       "      <td>49.991584</td>\n",
       "      <td>1.650326</td>\n",
       "      <td>55.727456</td>\n",
       "    </tr>\n",
       "    <tr>\n",
       "      <th>std</th>\n",
       "      <td>21505.864514</td>\n",
       "      <td>12.083456</td>\n",
       "      <td>11.223744</td>\n",
       "      <td>2152.508566</td>\n",
       "      <td>0.995289</td>\n",
       "      <td>28.513611</td>\n",
       "      <td>1.553633</td>\n",
       "      <td>25.399349</td>\n",
       "    </tr>\n",
       "    <tr>\n",
       "      <th>min</th>\n",
       "      <td>1.000000</td>\n",
       "      <td>18.000000</td>\n",
       "      <td>1.000000</td>\n",
       "      <td>1226.000000</td>\n",
       "      <td>0.000000</td>\n",
       "      <td>1.000000</td>\n",
       "      <td>0.000000</td>\n",
       "      <td>2.000000</td>\n",
       "    </tr>\n",
       "    <tr>\n",
       "      <th>25%</th>\n",
       "      <td>18625.250000</td>\n",
       "      <td>28.000000</td>\n",
       "      <td>7.000000</td>\n",
       "      <td>5652.000000</td>\n",
       "      <td>0.000000</td>\n",
       "      <td>25.000000</td>\n",
       "      <td>0.000000</td>\n",
       "      <td>36.000000</td>\n",
       "    </tr>\n",
       "    <tr>\n",
       "      <th>50%</th>\n",
       "      <td>37249.500000</td>\n",
       "      <td>39.000000</td>\n",
       "      <td>13.000000</td>\n",
       "      <td>7348.000000</td>\n",
       "      <td>1.000000</td>\n",
       "      <td>50.000000</td>\n",
       "      <td>1.000000</td>\n",
       "      <td>56.000000</td>\n",
       "    </tr>\n",
       "    <tr>\n",
       "      <th>75%</th>\n",
       "      <td>55873.750000</td>\n",
       "      <td>49.000000</td>\n",
       "      <td>23.000000</td>\n",
       "      <td>8876.000000</td>\n",
       "      <td>2.000000</td>\n",
       "      <td>75.000000</td>\n",
       "      <td>3.000000</td>\n",
       "      <td>76.000000</td>\n",
       "    </tr>\n",
       "    <tr>\n",
       "      <th>max</th>\n",
       "      <td>74498.000000</td>\n",
       "      <td>59.000000</td>\n",
       "      <td>51.000000</td>\n",
       "      <td>16149.000000</td>\n",
       "      <td>4.000000</td>\n",
       "      <td>99.000000</td>\n",
       "      <td>6.000000</td>\n",
       "      <td>128.000000</td>\n",
       "    </tr>\n",
       "  </tbody>\n",
       "</table>\n",
       "</div>"
      ],
      "text/plain": [
       "        Employee ID           Age  Years at Company  Monthly Income  \\\n",
       "count  74498.000000  74498.000000      74498.000000    74498.000000   \n",
       "mean   37249.500000     38.529746         15.721603     7299.379514   \n",
       "std    21505.864514     12.083456         11.223744     2152.508566   \n",
       "min        1.000000     18.000000          1.000000     1226.000000   \n",
       "25%    18625.250000     28.000000          7.000000     5652.000000   \n",
       "50%    37249.500000     39.000000         13.000000     7348.000000   \n",
       "75%    55873.750000     49.000000         23.000000     8876.000000   \n",
       "max    74498.000000     59.000000         51.000000    16149.000000   \n",
       "\n",
       "       Number of Promotions  Distance from Home  Number of Dependents  \\\n",
       "count          74498.000000        74498.000000          74498.000000   \n",
       "mean               0.832935           49.991584              1.650326   \n",
       "std                0.995289           28.513611              1.553633   \n",
       "min                0.000000            1.000000              0.000000   \n",
       "25%                0.000000           25.000000              0.000000   \n",
       "50%                1.000000           50.000000              1.000000   \n",
       "75%                2.000000           75.000000              3.000000   \n",
       "max                4.000000           99.000000              6.000000   \n",
       "\n",
       "       Company Tenure  \n",
       "count    74498.000000  \n",
       "mean        55.727456  \n",
       "std         25.399349  \n",
       "min          2.000000  \n",
       "25%         36.000000  \n",
       "50%         56.000000  \n",
       "75%         76.000000  \n",
       "max        128.000000  "
      ]
     },
     "execution_count": 6,
     "metadata": {},
     "output_type": "execute_result"
    }
   ],
   "source": [
    "df.describe()"
   ]
  },
  {
   "cell_type": "markdown",
   "metadata": {
    "id": "I3aQGY_-3s76"
   },
   "source": [
    "**Shape of DataFrame**"
   ]
  },
  {
   "cell_type": "code",
   "execution_count": 7,
   "metadata": {
    "colab": {
     "base_uri": "https://localhost:8080/"
    },
    "id": "8Dbim0In3Eq5",
    "outputId": "f9d0cebe-64ff-4261-9bbf-674ae759957b"
   },
   "outputs": [
    {
     "data": {
      "text/plain": [
       "(74498, 24)"
      ]
     },
     "execution_count": 7,
     "metadata": {},
     "output_type": "execute_result"
    }
   ],
   "source": [
    "df.shape"
   ]
  },
  {
   "cell_type": "markdown",
   "metadata": {
    "id": "ScBqjl1O30-k"
   },
   "source": [
    "**Columns in DataFrame**"
   ]
  },
  {
   "cell_type": "code",
   "execution_count": 8,
   "metadata": {
    "colab": {
     "base_uri": "https://localhost:8080/"
    },
    "id": "NUk1730G3GRm",
    "outputId": "422818a6-10a9-4e08-a223-4b264675b381"
   },
   "outputs": [
    {
     "data": {
      "text/plain": [
       "Index(['Employee ID', 'Age', 'Gender', 'Years at Company', 'Job Role',\n",
       "       'Monthly Income', 'Work-Life Balance', 'Job Satisfaction',\n",
       "       'Performance Rating', 'Number of Promotions', 'Overtime',\n",
       "       'Distance from Home', 'Education Level', 'Marital Status',\n",
       "       'Number of Dependents', 'Job Level', 'Company Size', 'Company Tenure',\n",
       "       'Remote Work', 'Leadership Opportunities', 'Innovation Opportunities',\n",
       "       'Company Reputation', 'Employee Recognition', 'Attrition'],\n",
       "      dtype='object')"
      ]
     },
     "execution_count": 8,
     "metadata": {},
     "output_type": "execute_result"
    }
   ],
   "source": [
    "df.columns"
   ]
  },
  {
   "cell_type": "markdown",
   "metadata": {
    "id": "Ad51eb3335YD"
   },
   "source": [
    "**Data types of columns**"
   ]
  },
  {
   "cell_type": "code",
   "execution_count": 9,
   "metadata": {
    "colab": {
     "base_uri": "https://localhost:8080/",
     "height": 836
    },
    "id": "2MhDMziL3J3B",
    "outputId": "ffe5688b-25e3-4049-d84e-b9578a7b9ae2"
   },
   "outputs": [
    {
     "data": {
      "text/plain": [
       "Employee ID                  int64\n",
       "Age                          int64\n",
       "Gender                      object\n",
       "Years at Company             int64\n",
       "Job Role                    object\n",
       "Monthly Income               int64\n",
       "Work-Life Balance           object\n",
       "Job Satisfaction            object\n",
       "Performance Rating          object\n",
       "Number of Promotions         int64\n",
       "Overtime                    object\n",
       "Distance from Home           int64\n",
       "Education Level             object\n",
       "Marital Status              object\n",
       "Number of Dependents         int64\n",
       "Job Level                   object\n",
       "Company Size                object\n",
       "Company Tenure               int64\n",
       "Remote Work                 object\n",
       "Leadership Opportunities    object\n",
       "Innovation Opportunities    object\n",
       "Company Reputation          object\n",
       "Employee Recognition        object\n",
       "Attrition                   object\n",
       "dtype: object"
      ]
     },
     "execution_count": 9,
     "metadata": {},
     "output_type": "execute_result"
    }
   ],
   "source": [
    "df.dtypes"
   ]
  },
  {
   "cell_type": "markdown",
   "metadata": {
    "id": "-sxmqeLe4HrA"
   },
   "source": [
    "**Number of null values in each column**"
   ]
  },
  {
   "cell_type": "code",
   "execution_count": 10,
   "metadata": {
    "colab": {
     "base_uri": "https://localhost:8080/",
     "height": 836
    },
    "id": "f-rTBnGu3Pkm",
    "outputId": "6d93b067-7a7f-4a6f-9edc-b5edb5769f1a"
   },
   "outputs": [
    {
     "data": {
      "text/plain": [
       "Employee ID                 0\n",
       "Age                         0\n",
       "Gender                      0\n",
       "Years at Company            0\n",
       "Job Role                    0\n",
       "Monthly Income              0\n",
       "Work-Life Balance           0\n",
       "Job Satisfaction            0\n",
       "Performance Rating          0\n",
       "Number of Promotions        0\n",
       "Overtime                    0\n",
       "Distance from Home          0\n",
       "Education Level             0\n",
       "Marital Status              0\n",
       "Number of Dependents        0\n",
       "Job Level                   0\n",
       "Company Size                0\n",
       "Company Tenure              0\n",
       "Remote Work                 0\n",
       "Leadership Opportunities    0\n",
       "Innovation Opportunities    0\n",
       "Company Reputation          0\n",
       "Employee Recognition        0\n",
       "Attrition                   0\n",
       "dtype: int64"
      ]
     },
     "execution_count": 10,
     "metadata": {},
     "output_type": "execute_result"
    }
   ],
   "source": [
    "df.isnull().sum()"
   ]
  },
  {
   "cell_type": "markdown",
   "metadata": {
    "id": "HPU5ewAC4McF"
   },
   "source": [
    "**Number of unique values in each column**"
   ]
  },
  {
   "cell_type": "code",
   "execution_count": 11,
   "metadata": {
    "colab": {
     "base_uri": "https://localhost:8080/",
     "height": 836
    },
    "id": "gb0T7XiB3WJO",
    "outputId": "1ae2b684-ed13-4bca-bb3e-badbeaa8f48f"
   },
   "outputs": [
    {
     "data": {
      "text/plain": [
       "Employee ID                 74498\n",
       "Age                            42\n",
       "Gender                          2\n",
       "Years at Company               51\n",
       "Job Role                        5\n",
       "Monthly Income               9842\n",
       "Work-Life Balance               4\n",
       "Job Satisfaction                4\n",
       "Performance Rating              4\n",
       "Number of Promotions            5\n",
       "Overtime                        2\n",
       "Distance from Home             99\n",
       "Education Level                 5\n",
       "Marital Status                  3\n",
       "Number of Dependents            7\n",
       "Job Level                       3\n",
       "Company Size                    3\n",
       "Company Tenure                127\n",
       "Remote Work                     2\n",
       "Leadership Opportunities        2\n",
       "Innovation Opportunities        2\n",
       "Company Reputation              4\n",
       "Employee Recognition            4\n",
       "Attrition                       2\n",
       "dtype: int64"
      ]
     },
     "execution_count": 11,
     "metadata": {},
     "output_type": "execute_result"
    }
   ],
   "source": [
    "df.nunique()"
   ]
  },
  {
   "cell_type": "markdown",
   "metadata": {
    "id": "Cg_WZEo642RU"
   },
   "source": [
    "**Number of duplicate rows**"
   ]
  },
  {
   "cell_type": "code",
   "execution_count": 12,
   "metadata": {
    "colab": {
     "base_uri": "https://localhost:8080/"
    },
    "id": "8degE4SF3f8W",
    "outputId": "0ce8913a-1062-48cd-84c5-31260017bf6b"
   },
   "outputs": [
    {
     "data": {
      "text/plain": [
       "0"
      ]
     },
     "execution_count": 12,
     "metadata": {},
     "output_type": "execute_result"
    }
   ],
   "source": [
    "df.duplicated().sum()"
   ]
  },
  {
   "cell_type": "markdown",
   "metadata": {
    "id": "FGHmTma65AGD"
   },
   "source": [
    "# **Data Preprocessing for Machine Learning**"
   ]
  },
  {
   "cell_type": "code",
   "execution_count": 13,
   "metadata": {
    "id": "5Qn_zp2Q4l0c"
   },
   "outputs": [],
   "source": [
    "# Divide the dataframe into features (X) and target (y)\n",
    "X= df.drop(['Employee ID', \"Attrition\"], axis=1)\n",
    "y= df['Attrition']"
   ]
  },
  {
   "cell_type": "markdown",
   "metadata": {
    "id": "ZVsRr0B95ovJ"
   },
   "source": [
    "**Handling Categorical Features in X**"
   ]
  },
  {
   "cell_type": "code",
   "execution_count": 14,
   "metadata": {
    "id": "CY3gARZl5cnx"
   },
   "outputs": [],
   "source": [
    "def encode_categorical_columns(df):\n",
    "  df_encoded = pd.get_dummies(df, drop_first=True)\n",
    "  return df_encoded\n",
    "\n",
    "X = encode_categorical_columns(X)"
   ]
  },
  {
   "cell_type": "code",
   "execution_count": 15,
   "metadata": {
    "id": "jWmXfAnw6BSp"
   },
   "outputs": [],
   "source": [
    "from sklearn.model_selection import train_test_split\n",
    "from sklearn.metrics import accuracy_score, confusion_matrix, classification_report\n",
    "from sklearn.preprocessing import StandardScaler, LabelEncoder\n",
    "from sklearn.linear_model import LogisticRegression\n",
    "from sklearn.tree import DecisionTreeClassifier\n",
    "from sklearn.ensemble import RandomForestClassifier\n",
    "from sklearn.neighbors import KNeighborsClassifier\n",
    "from sklearn.svm import SVC\n",
    "from sklearn.multiclass import OneVsRestClassifier\n",
    "from sklearn.metrics import f1_score\n",
    "from imblearn.over_sampling import SMOTE\n",
    "from sklearn.ensemble import VotingClassifier, StackingClassifier"
   ]
  },
  {
   "cell_type": "code",
   "execution_count": 16,
   "metadata": {
    "id": "SmW8ufB96lyP"
   },
   "outputs": [],
   "source": [
    "def apply_models(X, y):\n",
    "    scaler = StandardScaler()\n",
    "    le = LabelEncoder()\n",
    "    y = le.fit_transform(y)\n",
    "    X_train, X_test, y_train, y_test = train_test_split(X, y, test_size=0.2, random_state=42)\n",
    "    smote = SMOTE(random_state=42)\n",
    "    X_train, y_train = smote.fit_resample(X_train, y_train)\n",
    "\n",
    "    X_train = scaler.fit_transform(X_train)\n",
    "    X_test = scaler.transform(X_test)\n",
    "\n",
    "    models = {\n",
    "        'LogisticRegression': OneVsRestClassifier(LogisticRegression()),\n",
    "        'DecisionTree': OneVsRestClassifier(DecisionTreeClassifier()),\n",
    "        'RandomForest': OneVsRestClassifier(RandomForestClassifier()),\n",
    "        'KNeighbors': OneVsRestClassifier(KNeighborsClassifier()),\n",
    "        \"SVC\": OneVsRestClassifier(SVC())\n",
    "    }\n",
    "    model_performance = {}\n",
    "\n",
    "    for model_name, model in models.items():\n",
    "        print(f\"\\nClassification with {model_name}:\\n{'-' * 30}\")\n",
    "\n",
    "        model.fit(X_train, y_train)\n",
    "        y_pred = model.predict(X_test)\n",
    "\n",
    "        y_test_orig = le.inverse_transform(y_test)\n",
    "        y_pred_orig = le.inverse_transform(y_pred)\n",
    "\n",
    "        accuracy = accuracy_score(y_test_orig, y_pred_orig)\n",
    "        f1 = f1_score(y_test_orig, y_pred_orig, average='weighted')\n",
    "        model_performance[model_name] = (accuracy, f1)\n",
    "\n",
    "        print(\"\\Accuracy\\n\", accuracy)\n",
    "        print(\"\\nConfusion Matrix\\n\", confusion_matrix(y_test_orig, y_pred_orig))\n",
    "        print(\"\\nClassification Report\\n\", classification_report(y_test_orig, y_pred_orig))"
   ]
  },
  {
   "cell_type": "code",
   "execution_count": 17,
   "metadata": {
    "colab": {
     "base_uri": "https://localhost:8080/"
    },
    "id": "3sowOWBy7RaN",
    "outputId": "17818dc4-63e8-4113-ef6b-f637151f84e9"
   },
   "outputs": [
    {
     "name": "stdout",
     "output_type": "stream",
     "text": [
      "\n",
      "\u001b[1mClassification with LogisticRegression:\u001b[0m\n",
      "------------------------------\n",
      "\\Accuracy\n",
      " 0.752751677852349\n",
      "\n",
      "Confusion Matrix\n",
      " [[5353 1743]\n",
      " [1941 5863]]\n",
      "\n",
      "Classification Report\n",
      "               precision    recall  f1-score   support\n",
      "\n",
      "        Left       0.73      0.75      0.74      7096\n",
      "      Stayed       0.77      0.75      0.76      7804\n",
      "\n",
      "    accuracy                           0.75     14900\n",
      "   macro avg       0.75      0.75      0.75     14900\n",
      "weighted avg       0.75      0.75      0.75     14900\n",
      "\n",
      "\n",
      "\u001b[1mClassification with DecisionTree:\u001b[0m\n",
      "------------------------------\n",
      "\\Accuracy\n",
      " 0.6731543624161074\n",
      "\n",
      "Confusion Matrix\n",
      " [[4709 2387]\n",
      " [2483 5321]]\n",
      "\n",
      "Classification Report\n",
      "               precision    recall  f1-score   support\n",
      "\n",
      "        Left       0.65      0.66      0.66      7096\n",
      "      Stayed       0.69      0.68      0.69      7804\n",
      "\n",
      "    accuracy                           0.67     14900\n",
      "   macro avg       0.67      0.67      0.67     14900\n",
      "weighted avg       0.67      0.67      0.67     14900\n",
      "\n",
      "\n",
      "\u001b[1mClassification with RandomForest:\u001b[0m\n",
      "------------------------------\n",
      "\\Accuracy\n",
      " 0.748724832214765\n",
      "\n",
      "Confusion Matrix\n",
      " [[5341 1755]\n",
      " [1989 5815]]\n",
      "\n",
      "Classification Report\n",
      "               precision    recall  f1-score   support\n",
      "\n",
      "        Left       0.73      0.75      0.74      7096\n",
      "      Stayed       0.77      0.75      0.76      7804\n",
      "\n",
      "    accuracy                           0.75     14900\n",
      "   macro avg       0.75      0.75      0.75     14900\n",
      "weighted avg       0.75      0.75      0.75     14900\n",
      "\n",
      "\n",
      "\u001b[1mClassification with KNeighbors:\u001b[0m\n",
      "------------------------------\n",
      "\\Accuracy\n",
      " 0.6771140939597315\n",
      "\n",
      "Confusion Matrix\n",
      " [[4887 2209]\n",
      " [2602 5202]]\n",
      "\n",
      "Classification Report\n",
      "               precision    recall  f1-score   support\n",
      "\n",
      "        Left       0.65      0.69      0.67      7096\n",
      "      Stayed       0.70      0.67      0.68      7804\n",
      "\n",
      "    accuracy                           0.68     14900\n",
      "   macro avg       0.68      0.68      0.68     14900\n",
      "weighted avg       0.68      0.68      0.68     14900\n",
      "\n",
      "\n",
      "\u001b[1mClassification with SVC:\u001b[0m\n",
      "------------------------------\n",
      "\\Accuracy\n",
      " 0.7528187919463087\n",
      "\n",
      "Confusion Matrix\n",
      " [[5315 1781]\n",
      " [1902 5902]]\n",
      "\n",
      "Classification Report\n",
      "               precision    recall  f1-score   support\n",
      "\n",
      "        Left       0.74      0.75      0.74      7096\n",
      "      Stayed       0.77      0.76      0.76      7804\n",
      "\n",
      "    accuracy                           0.75     14900\n",
      "   macro avg       0.75      0.75      0.75     14900\n",
      "weighted avg       0.75      0.75      0.75     14900\n",
      "\n"
     ]
    }
   ],
   "source": [
    "apply_models(X, y)"
   ]
  },
  {
   "cell_type": "code",
   "execution_count": null,
   "metadata": {
    "id": "__h5Yf7-GtJn"
   },
   "outputs": [],
   "source": []
  }
 ],
 "metadata": {
  "accelerator": "GPU",
  "colab": {
   "gpuType": "T4",
   "provenance": []
  },
  "kernelspec": {
   "display_name": "Python 3 (ipykernel)",
   "language": "python",
   "name": "python3"
  },
  "language_info": {
   "codemirror_mode": {
    "name": "ipython",
    "version": 3
   },
   "file_extension": ".py",
   "mimetype": "text/x-python",
   "name": "python",
   "nbconvert_exporter": "python",
   "pygments_lexer": "ipython3",
   "version": "3.10.9"
  }
 },
 "nbformat": 4,
 "nbformat_minor": 1
}
